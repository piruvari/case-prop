{
  "nbformat": 4,
  "nbformat_minor": 0,
  "metadata": {
    "colab": {
      "name": "case_properties.ipynb",
      "provenance": []
    },
    "kernelspec": {
      "name": "python3",
      "display_name": "Python 3"
    }
  },
  "cells": [
    {
      "cell_type": "markdown",
      "metadata": {
        "id": "XQVk1S0YwfGv"
      },
      "source": [
        "Este codigo permite a extracao dos dados propierties BR, transformacao e envio dos dados por email.\n",
        "O codigo se pode planejar com airflow ou em algum servidor na nuvem com crostab executando um ssh que execute o python com os parametros de data. Na bigquery gratuita esta limitado esse uso por isso so fiz os codigos que serao implementados para automatizacao. \n",
        "\n",
        "Pode ser planejado diariamente especificando os parametros de ini e fim.\n",
        "\n",
        "A extracao permite reprocessamento pelo periodo indicado \n",
        "A transformacao gera a fato mensal pelo periodo indicado\n",
        "O email envia a media ate o mes executado ao cliente"
      ]
    },
    {
      "cell_type": "code",
      "metadata": {
        "colab": {
          "base_uri": "https://localhost:8080/"
        },
        "id": "ln_ZbakSKi4V",
        "outputId": "98608d4e-1654-45f9-e102-1d633c905a90"
      },
      "source": [
        "from google.colab import auth\n",
        "auth.authenticate_user()\n",
        "print('Authenticated')\n",
        "#bigquery-public-data.samples.natality"
      ],
      "execution_count": 29,
      "outputs": [
        {
          "output_type": "stream",
          "text": [
            "Authenticated\n"
          ],
          "name": "stdout"
        }
      ]
    },
    {
      "cell_type": "markdown",
      "metadata": {
        "id": "kAae7GaaROh-"
      },
      "source": [
        "extracao dos dados e limpeza=\n",
        "\n",
        "* se colocou um filtro de tempo para planejar esta execucao enviando por parametros data de inicio e fim se precisar.\n",
        "* Se incorporou uma sentenca de delete para disponibilizar o reprocessamento mas ficou desabilitado porque a versao gratuita de bigquery nao possibilita isso. Mas coloquei substituir para conseguir reprocessar.\n",
        "* a extracao filtra os dados por cidade de sao paulo, apartamento e por periodo. Assegura que o price seja existente para usar no calculo da media\n",
        "\n"
      ]
    },
    {
      "cell_type": "code",
      "metadata": {
        "id": "El68VpAUK-uq"
      },
      "source": [
        "\n",
        "from google.cloud import bigquery \n",
        "from datetime import datetime\n",
        "import pandas as pd\n",
        "from sqlalchemy import create_engine\n",
        "import io\n",
        "from google.colab import files\n",
        "import pandas_gbq\n",
        "\n",
        "\n",
        "#confiGUration projeto \n",
        "project_id = \"teste-306620\"\n",
        "client = bigquery.Client(project=project_id)\n",
        "dataset_id=\"properati-data-public.properties_br\"\n",
        "table_id = \"TESTEUS.STG_PROPERTIES_BR\"\n",
        "table_destino = \"\"\"`teste-306620.TESTEUS.STG_PROPERTIES_BR`\"\"\"\n",
        "# fim \n",
        "\n",
        "#DATA DE PROCESSAMENTO #\n",
        "INI_DATE=\"2017/01/01\"\n",
        "FIM_DATE=\"2017/12/31\"\n",
        "#FIM DATA DE PROCESSAMENTO #\n",
        "\n",
        "#FIM_DATE_DT = datetime.strptime(FIM_DATE, '%Y/%m/%d').date()\n",
        "tables = client.list_tables(dataset_id)  # Make an API request.\n",
        "\n",
        "#ADQUIRIR OS DADOS DA CIDADE DO SAO PAULO DOS APARTAMENTOS #\n",
        "count=0\n",
        "#sql_delete=\"\"\" delete from \"\"\"+table_destino+\"\"\"  where  PARSE_DATE('%Y-%m-%d', substr(cast(created_on as string),1,10)) between PARSE_DATE('%Y/%m/%d', '\"\"\"+INI_DATE+\"\"\"')and PARSE_DATE('%Y/%m/%d', '\"\"\"+FIM_DATE+\"\"\"') \"\"\"\n",
        "#df = pandas_gbq.read_gbq(sql_delete, project_id=project_id)  \n",
        "\n",
        "for table in tables:\n",
        " \n",
        "    sql=\"\"\"\n",
        "    SELECT id\t,created_on, operation\t, property_type\t, place_name,place_with_parent_names\t,state_name,cast(price as FLOAT64)\tprice\t\n",
        "    FROM  `\"\"\"+\"\"\"{}.{}.{}\"\"\".format(table.project, table.dataset_id, table.table_id)+ \"\"\"`\n",
        "        where  \n",
        "        created_on between PARSE_DATE('%Y/%m/%d', '\"\"\"+INI_DATE+\"\"\"')and PARSE_DATE('%Y/%m/%d', '\"\"\"+FIM_DATE+\"\"\"') \n",
        "        and state_name = 'São Paulo'  \n",
        "        AND upper(property_type) like '%APART%' \n",
        "        and price is not null and price>0\n",
        "        and  place_with_parent_names  like '%|São Paulo|São Paulo|%'  \"\"\"\n",
        "    df = pandas_gbq.read_gbq(sql, project_id=project_id)\n",
        "    if  count ==0:\n",
        "        pandas_gbq.to_gbq(df, table_id, project_id=project_id,if_exists='replace')\n",
        "    else:\n",
        "        pandas_gbq.to_gbq(df, table_id, project_id=project_id,if_exists='append')\n",
        "    count=1\n",
        "\n"
      ],
      "execution_count": null,
      "outputs": []
    },
    {
      "cell_type": "markdown",
      "metadata": {
        "id": "xCVw9r4fRWg4"
      },
      "source": [
        "Transformacao Load\n",
        "\n",
        "* se realizou um calculo mensal da media dos apartamentos para o aluguel e para a venda\n",
        "* permite reprocessamento de acordo as datas inicio e fim. Mas o delete tem uma limitacao pelo uso de bigquery gratuito mas se resolveu fazendo um replace dos dados da tabela"
      ]
    },
    {
      "cell_type": "code",
      "metadata": {
        "colab": {
          "base_uri": "https://localhost:8080/"
        },
        "id": "wluTFPg1fPvh",
        "outputId": "f17b3d8a-eebf-49a2-8d14-a17d045832b8"
      },
      "source": [
        "\n",
        "\n",
        "from google.cloud import bigquery \n",
        "from datetime import datetime\n",
        "import pandas as pd\n",
        "from sqlalchemy import create_engine\n",
        "import io\n",
        "from google.colab import files\n",
        "import pandas_gbq\n",
        "#confiGUration projeto \n",
        "project_id = \"teste-306620\"\n",
        "client = bigquery.Client(project=project_id)\n",
        "dataset_id=\"properati-data-public.properties_br\"\n",
        "table_id = \"TESTEUS.STG_PROPERTIES_BR\"\n",
        "table_destino = \"TESTEUS.FT_PROPERTIES_BR\"\n",
        "\n",
        "#DATA DE PROCESSAMENTO #\n",
        "INI_DATE=\"2017/01/01\"\n",
        "FIM_DATE=\"2017/12/31\"\n",
        "INI=INI_DATE[0:4]+INI_DATE[5:7]\n",
        "FIM=FIM_DATE[0:4]+FIM_DATE[5:7]\n",
        "\n",
        "#FIM DATA DE PROCESSAMENTO #\n",
        "\n",
        "#sql_delete=\"\"\"delete from `teste-306620.TESTEUS.FT_PROPERTIES_BR` WHERE MES_ID BETWEEN  cast('\"\"\"+INI+\"\"\"'as int64) AND cast('\"\"\"+FIM+\"\"\"'as int64) \"\"\"\n",
        "print(sql_delete)\n",
        "#pandas_gbq.read_gbq(sql_delete, project_id=project_id)  \n",
        "\n",
        "sql=\"\"\"select operation, EXTRACT(YEAR FROM CREATED_ON)*100+ EXTRACT(MONTH FROM CREATED_ON) mes_id, round(sum(price)/count(1),2) media_price \n",
        "from `teste-306620.TESTEUS.STG_PROPERTIES_BR` \n",
        "where  PARSE_DATE('%Y-%m-%d', substr(cast(created_on as string),1,10)) between PARSE_DATE('%Y/%m/%d', '\"\"\"+INI_DATE+\"\"\"')and PARSE_DATE('%Y/%m/%d', '\"\"\"+FIM_DATE+\"\"\"') \n",
        "group by operation , EXTRACT(YEAR FROM CREATED_ON)*100+ EXTRACT(MONTH FROM CREATED_ON)\"\"\"\n",
        "df = pandas_gbq.read_gbq(sql, project_id=project_id)\n",
        "pandas_gbq.to_gbq(df, table_destino, project_id=project_id,if_exists='replace')\n",
        "\n"
      ],
      "execution_count": 31,
      "outputs": [
        {
          "output_type": "stream",
          "text": [
            "delete from `teste-306620.TESTEUS.FT_PROPERTIES_BR` WHERE MES_ID BETWEEN  cast('201701'as int64) AND cast('201712'as int64) \n"
          ],
          "name": "stdout"
        },
        {
          "output_type": "stream",
          "text": [
            "Downloading: 100%|██████████| 24/24 [00:00<00:00, 88.53rows/s]\n",
            "1it [00:02,  2.37s/it]\n"
          ],
          "name": "stderr"
        }
      ]
    },
    {
      "cell_type": "markdown",
      "metadata": {
        "id": "84VYMxU9RgwG"
      },
      "source": [
        "enviar o email \n",
        "\n",
        "Se realizou um email para enviar os resultados ao ultimo mes processado. Discriminado por aluguel e venda dos apartamentos\n"
      ]
    },
    {
      "cell_type": "code",
      "metadata": {
        "id": "bZcF9Kd44dQL"
      },
      "source": [
        "# função enviar_email\n",
        "import smtplib\n",
        "import email.message\n",
        "\n",
        "def enviar_email(resumo_loja, loja):\n",
        "\n",
        "  server = smtplib.SMTP('smtp.gmail.com:587')  \n",
        "  email_content = f'''\n",
        "  <p>Estimado,\n",
        "  Segue o preco medo dos apartamentos na Ciudade de Sao paulo para aluguel e venda\n",
        "  </p>\n",
        "  {resumo_loja.to_html()}\n",
        "  <p>Atenciosamente, Cynthia Mendoza </p>'''\n",
        "  \n",
        "  msg = email.message.Message()\n",
        "  msg['Subject'] = f'Properties BR Mensal'\n",
        "  \n",
        "  \n",
        "  msg['From'] = 'piruvarideveloper1@gmail.com'\n",
        "  msg['To'] = 'piruvarideveloper@gmail.com'\n",
        "  password = 'supersenha'\n",
        "  msg.add_header('Content-Type', 'text/html')\n",
        "  msg.set_payload(email_content)\n",
        "  \n",
        "  s = smtplib.SMTP('smtp.gmail.com: 587')\n",
        "  s.starttls()\n",
        "  # Login Credentials for sending the mail\n",
        "  s.login(msg['From'], password)\n",
        "  s.sendmail(msg['From'], [msg['To']], msg.as_string().encode('utf-8'))"
      ],
      "execution_count": 36,
      "outputs": []
    },
    {
      "cell_type": "markdown",
      "metadata": {
        "id": "FATeE11gwR54"
      },
      "source": [
        ""
      ]
    },
    {
      "cell_type": "code",
      "metadata": {
        "colab": {
          "base_uri": "https://localhost:8080/"
        },
        "id": "67knxlSq_q5z",
        "outputId": "7b97e6dd-59ce-47bd-a5cb-bcc833287e07"
      },
      "source": [
        "\n",
        "sql=\"\"\"select operation ,  round(avg(media_price),2) media_anual\n",
        "from `teste-306620.TESTEUS.FT_PROPERTIES_BR` \n",
        "group by operation\n",
        "\"\"\"\n",
        "df = pandas_gbq.read_gbq(sql, project_id=project_id)\n",
        "\n",
        "enviar_email(df, 'Preco medio dos apartamentos da Cidade de Sao Paulo')"
      ],
      "execution_count": 38,
      "outputs": [
        {
          "output_type": "stream",
          "text": [
            "Downloading: 100%|██████████| 2/2 [00:00<00:00, 11.98rows/s]\n"
          ],
          "name": "stderr"
        }
      ]
    }
  ]
}